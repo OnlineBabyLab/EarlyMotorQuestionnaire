{
 "cells": [
  {
   "cell_type": "markdown",
   "id": "c8f653af",
   "metadata": {},
   "source": [
    "# Early Motor Questionnaire Age-Independent Score R Syntax"
   ]
  },
  {
   "cell_type": "markdown",
   "id": "d98174df",
   "metadata": {},
   "source": [
    "## Description"
   ]
  },
  {
   "cell_type": "markdown",
   "id": "5e57f793",
   "metadata": {},
   "source": [
    "This syntax can be used in R to convert raw Early Motor Questionnaire (EMQ) scores to Age-Independent Scores. "
   ]
  },
  {
   "cell_type": "markdown",
   "id": "611e2f34",
   "metadata": {},
   "source": [
    "The Early Motor Questionnaire (EMQ) is a parent-report questionnaire used to measure infant gross motor, fine motor, and perception-action development. The EMQ is organized around contexts parents experience everyday with their infants, therefore allowing parents to recall observed behaviors more easily. Parents rate their infants' motor behavior using a 5-point scalre ranging from -2 (parent is sure the child does not show the behavior yet) to +2 (parent remembers a particular instance in which the child showed the behavior). The EMQ has been shown to correlate strongly with corresponding items on direct-observation measures including the Mullen Scales of Early Learning (MSEL) and the Peabody Developmental Motor Scales (PDMS-2). "
   ]
  },
  {
   "cell_type": "markdown",
   "id": "94a1f116",
   "metadata": {},
   "source": [
    "The age adjustment for raw EMQ scores allows for more straightforward interpretation of individual scores and for comparison across children of different ages. The syntax below outputs an age-adjusted t-score transformation based on a second-order polynomial model of infant motor development over the first two years as measured by the EMQ. "
   ]
  },
  {
   "cell_type": "markdown",
   "id": "f6211837",
   "metadata": {},
   "source": [
    "For more information about the EMQ and a description of the creation of Age-Independent Scores, see The Early Motor Questionnaire revisited: Starting points, standardized scores, and stability: https://doi.org/10.1016/j.jecp.2022.105492"
   ]
  },
  {
   "cell_type": "markdown",
   "id": "5ddcbe68",
   "metadata": {},
   "source": [
    "To cite us: "
   ]
  },
  {
   "cell_type": "markdown",
   "id": "dc1accb5",
   "metadata": {},
   "source": [
    "Smith, D. K., & Libertus, K. (2022). The Early Motor Questionnaire revisited: Starting points, standardized scores, and stability. Journal of Experimental Child Psychology, 223, 105492."
   ]
  },
  {
   "cell_type": "markdown",
   "id": "f81a6cb5",
   "metadata": {},
   "source": [
    "## R Code with Commentary"
   ]
  },
  {
   "cell_type": "markdown",
   "id": "d53fb786",
   "metadata": {},
   "source": [
    "### Data Cleaning "
   ]
  },
  {
   "cell_type": "markdown",
   "id": "7d988bc7",
   "metadata": {},
   "source": [
    "Prior to uploading your data, make sure you have gross motor items (GM), fine motor items (FM), perception-action items (PA), and Age. "
   ]
  },
  {
   "cell_type": "markdown",
   "id": "e961660a",
   "metadata": {},
   "source": [
    "We recommend a naming convention that identifies the subscale (e.g., GM, FM, etc...) and the item number (e.g., 1, 2, etc...). Adjust the syntax below according to how your variables are named. "
   ]
  },
  {
   "cell_type": "code",
   "execution_count": null,
   "id": "4c28495d",
   "metadata": {},
   "outputs": [],
   "source": [
    "#Change to file location path. \n",
    "setwd(\"/Users/xxx/xxx\") "
   ]
  },
  {
   "cell_type": "code",
   "execution_count": null,
   "id": "efe2bbe7",
   "metadata": {},
   "outputs": [],
   "source": [
    "#Change to file name and set a placeholder name for data. \n",
    "xxx <-read.csv(\"xxx.csv\") "
   ]
  },
  {
   "cell_type": "code",
   "execution_count": null,
   "id": "de1a1263",
   "metadata": {},
   "outputs": [],
   "source": [
    "#Allows you to see first several rows of data and all variable names.  \n",
    "head(xxx) "
   ]
  },
  {
   "cell_type": "markdown",
   "id": "7392aac0",
   "metadata": {},
   "source": [
    "To view your entire dataset rather than the first several rows, run xxx using your placeholder data name."
   ]
  },
  {
   "cell_type": "code",
   "execution_count": null,
   "id": "6b247b60",
   "metadata": {},
   "outputs": [],
   "source": [
    "library(tidyverse) "
   ]
  },
  {
   "cell_type": "code",
   "execution_count": null,
   "id": "6be7f488",
   "metadata": {},
   "outputs": [],
   "source": [
    "library(datawrangling) "
   ]
  },
  {
   "cell_type": "markdown",
   "id": "d6fe8acf",
   "metadata": {},
   "source": [
    "The datawrangling library creates summary variables REPLACING individual items. This results in a cleaner working dataset. An alternative method is to use 'mutate' from the tidyverse library to sum motor domains. This is especially helpful if you are interested in individual raw item scores. Both methods are demonstrated here--be careful to use only one method."
   ]
  },
  {
   "cell_type": "markdown",
   "id": "4e44c723",
   "metadata": {},
   "source": [
    "#### Datawrangling method"
   ]
  },
  {
   "cell_type": "code",
   "execution_count": null,
   "id": "ef265f59",
   "metadata": {},
   "outputs": [],
   "source": [
    "xxx_gm <- xxx %>%  \n",
    "composite(variables = c(\"GM_1\", \"GM_2\", \"GM_3\", \"GM_4\", \"GM_5\", \"GM_6\", \n",
    "                         \"GM_7\", \"GM_8\", \"GM_9\", \"GM_10\", \"GM_11\", \"GM_12\", \n",
    "                         \"GM_13\", \"GM_14\", \"GM_15\", \"GM_16\", \"GM_17\", \n",
    "                         \"GM_18\", \"GM_19\", \"GM_20\", \"GM_21\", \"GM_22\", \n",
    "                         \"GM_23\", \"GM_24\", \"GM_25\", \"GM_26\", \"GM_27\", \n",
    "                         \"GM_28\", \"GM_29\", \"GM_30\", \"GM_31\", \"GM_32\", \n",
    "                         \"GM_33\", \"GM_34\", \"GM_35\", \"GM_36\", \"GM_37\", \n",
    "                         \"GM_38\", \"GM_39\", \"GM_40\", \"GM_41\", \"GM_42\", \n",
    "                         \"GM_43\", \"GM_44\", \"GM_45\", \"GM_46\", \"GM_47\", \n",
    "                         \"GM_48\", \"GM_49\"), \n",
    "            name = \"GM_Sum\", \n",
    "            type = \"sum\", \n",
    "            standardize = FALSE, \n",
    "            missing.allowed = 0) "
   ]
  },
  {
   "cell_type": "code",
   "execution_count": null,
   "id": "8813863e",
   "metadata": {},
   "outputs": [],
   "source": [
    "xxx_fm <- xxx_gm %>% \n",
    "composite(variables = c(\"FM_1\", \"FM_2\", \"FM_3\", \"FM_4\", \"FM_5\", \"FM_6\", \n",
    "                          \"FM_7\", \"FM_8\", \"FM_9\", \"FM_10\", \"FM_11\", \"FM_12\", \n",
    "                          \"FM_13\", \"FM_14\", \"FM_15\", \"FM_16\", \"FM_17\", \n",
    "                          \"FM_18\", \"FM_19\", \"FM_20\", \"FM_21\", \"FM_22\", \n",
    "                          \"FM_23\", \"FM_24\", \"FM_25\", \"FM_26\", \"FM_27\", \n",
    "                          \"FM_28\", \"FM_29\", \"FM_30\", \"FM_31\", \"FM_32\", \n",
    "                          \"FM_33\", \"FM_34\", \"FM_35\", \"FM_36\", \"FM_37\", \n",
    "                          \"FM_38\", \"FM_39\", \"FM_40\", \"FM_41\", \"FM_42\", \n",
    "                          \"FM_43\", \"FM_44\", \"FM_45\", \"FM_46\", \"FM_47\", \n",
    "                          \"FM_48\"), \n",
    "            name = \"FM_Sum\", \n",
    "            type = \"sum\", \n",
    "            standardize = FALSE, \n",
    "            missing.allowed = 0) "
   ]
  },
  {
   "cell_type": "code",
   "execution_count": null,
   "id": "c5b79700",
   "metadata": {},
   "outputs": [],
   "source": [
    "xxx_pa <- xxx_fm %>% \n",
    "  composite(variables = c(\"PA_1\", \"PA_2\", \"PA_3\", \"PA_4\", \"PA_5\", \"PA_6\", \n",
    "                          \"PA_7\", \"PA_8\", \"PA_9\", \"PA_10\", \"PA_11\", \"PA_12\", \n",
    "                          \"PA_13\", \"PA_14\", \"PA_15\", \"PA_16\", \"PA_17\", \n",
    "                          \"PA_18\", \"PA_19\", \"PA_20\", \"PA_21\", \"PA_22\", \n",
    "                          \"PA_23\", \"PA_24\", \"PA_25\", \"PA_26\", \"PA_27\", \n",
    "                          \"PA_28\", \"PA_29\", \"PA_30\", \"PA_31\"), \n",
    "            name = \"PA_Sum\", \n",
    "            type = \"sum\", \n",
    "            standardize = FALSE, \n",
    "            missing.allowed = 0) "
   ]
  },
  {
   "cell_type": "code",
   "execution_count": null,
   "id": "7e1e7ba9",
   "metadata": {},
   "outputs": [],
   "source": [
    " head(xxx_pa) "
   ]
  },
  {
   "cell_type": "markdown",
   "id": "4f2e49b4",
   "metadata": {},
   "source": [
    "If you use this method, at this point we recommend making a new dataframe that isn't named specifically for a subdomain. Here I demonstrate this code using the dataframe naming convention study_dataframe1 (xxx_df1) because it is my first analysis of the project."
   ]
  },
  {
   "cell_type": "code",
   "execution_count": null,
   "id": "322bb187",
   "metadata": {},
   "outputs": [],
   "source": [
    "xxx_df1 <- xxx_pa "
   ]
  },
  {
   "cell_type": "code",
   "execution_count": null,
   "id": "f4919c24",
   "metadata": {},
   "outputs": [],
   "source": [
    "head(xxx_df1) "
   ]
  },
  {
   "cell_type": "markdown",
   "id": "d547f0fc",
   "metadata": {},
   "source": [
    "#### Tidyverse 'mutate' method"
   ]
  },
  {
   "cell_type": "code",
   "execution_count": null,
   "id": "e15b2af0",
   "metadata": {},
   "outputs": [],
   "source": [
    "xxx %>% mutate(GM_Sum = GM_1 + GM_2 + GM_3 + GM_4 + GM_5 + GM_6 + GM_7 +\n",
    "               GM_8 + GM_9 + GM_10 + GM_11 + GM_12 + GM_13 + GM_14 + GM_15 +\n",
    "               GM_16 + GM_17 + GM_18 + GM_19 + GM_20 + GM_21 + GM_22 + \n",
    "               GM_23 + GM_24 + GM_25 + GM_26 + GM_27 + GM_28 + GM_29 + \n",
    "               GM_30 + GM_31 + GM_32 + GM_33 + GM_34 + GM_35 + GM_36 + \n",
    "               GM_37 + GM_38 + GM_39 + GM_40 + GM_41 + GM_42 + GM_43 + \n",
    "               GM_44 + GM_45 + GM_46 + GM_47 + GM_48 + GM_49) -> xxx"
   ]
  },
  {
   "cell_type": "code",
   "execution_count": null,
   "id": "c3ca808b",
   "metadata": {},
   "outputs": [],
   "source": [
    "xxx %>% mutate(FM_Sum = FM_1 + FM_2 + FM_3 + FM_4 + FM_5 + FM_6 + FM_7 +\n",
    "               FM_8 + FM_9 + FM_10 + FM_11 + FM_12 + FM_13 + FM_14 + FM_15 +\n",
    "               FM_16 + FM_17 + FM_18 + FM_19 + FM_20 + FM_21 + FM_22 + \n",
    "               FM_23 + FM_24 + FM_25 + FM_26 + FM_27 + FM_28 + FM_29 + \n",
    "               FM_30 + FM_31 + FM_32 + FM_33 + FM_34 + FM_35 + FM_36 + \n",
    "               FM_37 + FM_38 + FM_39 + FM_40 + FM_41 + FM_42 + FM_43 + \n",
    "               FM_44 + FM_45 + FM_46 + FM_47 + FM_48) -> xxx"
   ]
  },
  {
   "cell_type": "code",
   "execution_count": null,
   "id": "6bbefee9",
   "metadata": {},
   "outputs": [],
   "source": [
    "xxx %>% mutate(PA_Sum = PA_1 + PA_2 + PA_3 + PA_4 + PA_5 + PA_6 + PA_7 +\n",
    "               PA_8 + PA_9 + PA_10 + PA_11 + PA_12 + PA_13 + PA_14 + PA_15 +\n",
    "               PA_16 + PA_17 + PA_18 + PA_19 + PA_20 + PA_21 + PA_22 + \n",
    "               PA_23 + PA_24 + PA_25 + PA_26 + PA_27 + PA_28 + PA_29 + \n",
    "               PA_30 + PA_31) -> xxx"
   ]
  },
  {
   "cell_type": "markdown",
   "id": "cf2ef7aa",
   "metadata": {},
   "source": [
    "If you use this method, at this point we recommend making a new dataframe to move from data cleaning to calculating new variables. Here I demonstrate this code using the dataframe naming convention study_dataframe1 (xxx_df1) because it is my first analysis of the project."
   ]
  },
  {
   "cell_type": "code",
   "execution_count": null,
   "id": "84106dfd",
   "metadata": {},
   "outputs": [],
   "source": [
    "xxx_df1 <- xxx_pa "
   ]
  },
  {
   "cell_type": "code",
   "execution_count": null,
   "id": "466da25c",
   "metadata": {},
   "outputs": [],
   "source": [
    "head(xxx_df1) "
   ]
  },
  {
   "cell_type": "markdown",
   "id": "68ec2a5f",
   "metadata": {},
   "source": [
    "### Making EMQ Age-Independent Scores "
   ]
  },
  {
   "cell_type": "code",
   "execution_count": null,
   "id": "761e08fd",
   "metadata": {},
   "outputs": [],
   "source": [
    "#Create Age squared variable \n",
    "xxx %>% mutate(Age_Sq = EMQ_Age^2) -> xxx"
   ]
  },
  {
   "cell_type": "code",
   "execution_count": null,
   "id": "a9579d21",
   "metadata": {},
   "outputs": [],
   "source": [
    "#Create GM AIS \n",
    "xxx %>% mutate(GM_AIS = ((((GM_Sum - ((-109.01) + (0.42 * EMQ_Age)\n",
    "                        + (-0.000175 * Age_Sq)) - 2.57) / 51.00) \n",
    "                        * 10) + 50)) -> xxx "
   ]
  },
  {
   "cell_type": "code",
   "execution_count": null,
   "id": "490950e1",
   "metadata": {},
   "outputs": [],
   "source": [
    "#Create FM AIS \n",
    "xxx %>% mutate(FM_AIS = ((((FM_Sum - ((-101.40) + (0.43 * EMQ_Age)\n",
    "                        + (-0.000339 * Age_Sq)) + 7.81) / 36.41)\n",
    "                        * 10) + 50)) -> xxx "
   ]
  },
  {
   "cell_type": "code",
   "execution_count": null,
   "id": "e2469223",
   "metadata": {},
   "outputs": [],
   "source": [
    "xxx %>% mutate(PA_AIS = ((((PA_Sum - ((-48.03) + (0.21* EMQ_Age) \n",
    "                        + (-0.0000771 * Age_Sq)) - 9.22) / 27.48)\n",
    "                        * 10) + 50)) -> xxx "
   ]
  },
  {
   "cell_type": "markdown",
   "id": "af14f940",
   "metadata": {},
   "source": [
    "To create Global Age-Independent Scores:"
   ]
  },
  {
   "cell_type": "code",
   "execution_count": null,
   "id": "00d01825",
   "metadata": {},
   "outputs": [],
   "source": [
    "#Create GL AIS\n",
    "xxx %>% mutate(GL_Sum = GM_Sum + FM_Sum + PA_Sum) -> xxx\n",
    "xxx %>% mutate(GL_AIS = ((((GL_Sum - ((-258.44) + (1.06 * EMQ_Age)\n",
    "                        + (-0.000591 * Age_Sq)) - 3.98) / 112.35)\n",
    "                        * 10) + 50)) -> xxx "
   ]
  },
  {
   "cell_type": "code",
   "execution_count": null,
   "id": "8ecb56f0",
   "metadata": {},
   "outputs": [],
   "source": [
    "#Confirm scores are listed at the end of your dataset\n",
    "head(xxx_df1)"
   ]
  }
 ],
 "metadata": {
  "kernelspec": {
   "display_name": "R",
   "language": "R",
   "name": "ir"
  },
  "language_info": {
   "codemirror_mode": "r",
   "file_extension": ".r",
   "mimetype": "text/x-r-source",
   "name": "R",
   "pygments_lexer": "r",
   "version": "4.1.1"
  }
 },
 "nbformat": 4,
 "nbformat_minor": 5
}
